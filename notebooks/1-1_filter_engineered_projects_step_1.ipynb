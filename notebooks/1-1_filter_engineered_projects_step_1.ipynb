{
 "cells": [
  {
   "cell_type": "code",
   "execution_count": 1,
   "metadata": {},
   "outputs": [],
   "source": [
    "import pandas as pd"
   ]
  },
  {
   "cell_type": "code",
   "execution_count": 2,
   "metadata": {},
   "outputs": [],
   "source": [
    "py_projects = pd.read_csv('../data/repo_data.csv', encoding='latin-1')"
   ]
  },
  {
   "cell_type": "code",
   "execution_count": 3,
   "metadata": {},
   "outputs": [
    {
     "data": {
      "text/plain": [
       "(732, 40)"
      ]
     },
     "execution_count": 3,
     "metadata": {},
     "output_type": "execute_result"
    }
   ],
   "source": [
    "py_projects.shape"
   ]
  },
  {
   "cell_type": "code",
   "execution_count": 4,
   "metadata": {},
   "outputs": [],
   "source": [
    "py_projects = py_projects[(~py_projects['license'].isna()) & (py_projects['license'] != 'Other') & (py_projects['contributors'] >= 2) & (py_projects['releases'] >= 1) & (py_projects['isArchived'] == False)]"
   ]
  },
  {
   "cell_type": "code",
   "execution_count": 5,
   "metadata": {},
   "outputs": [],
   "source": [
    "py_projects = py_projects[~py_projects['license'].str.contains(r'Creative Commons|Open Font',regex=True)]"
   ]
  },
  {
   "cell_type": "code",
   "execution_count": 6,
   "metadata": {},
   "outputs": [],
   "source": [
    "py_projects = py_projects[py_projects.license.isin(\n",
    "    py_projects.license.value_counts()[\n",
    "        py_projects.license.value_counts() > py_projects.license.value_counts().quantile(0.5)\n",
    "    ].index\n",
    ")]"
   ]
  },
  {
   "cell_type": "code",
   "execution_count": 7,
   "metadata": {},
   "outputs": [
    {
     "data": {
      "text/plain": [
       "(705, 40)"
      ]
     },
     "execution_count": 7,
     "metadata": {},
     "output_type": "execute_result"
    }
   ],
   "source": [
    "py_projects.shape"
   ]
  },
  {
   "cell_type": "code",
   "execution_count": 8,
   "metadata": {},
   "outputs": [
    {
     "data": {
      "text/html": [
       "<div>\n",
       "<style scoped>\n",
       "    .dataframe tbody tr th:only-of-type {\n",
       "        vertical-align: middle;\n",
       "    }\n",
       "\n",
       "    .dataframe tbody tr th {\n",
       "        vertical-align: top;\n",
       "    }\n",
       "\n",
       "    .dataframe thead th {\n",
       "        text-align: right;\n",
       "    }\n",
       "</style>\n",
       "<table border=\"1\" class=\"dataframe\">\n",
       "  <thead>\n",
       "    <tr style=\"text-align: right;\">\n",
       "      <th></th>\n",
       "      <th>url</th>\n",
       "      <th>include</th>\n",
       "      <th>language</th>\n",
       "      <th>comment</th>\n",
       "      <th>id</th>\n",
       "      <th>name</th>\n",
       "      <th>isFork</th>\n",
       "      <th>commits</th>\n",
       "      <th>branches</th>\n",
       "      <th>releases</th>\n",
       "      <th>...</th>\n",
       "      <th>lastCommit</th>\n",
       "      <th>lastCommitSHA</th>\n",
       "      <th>hasWiki</th>\n",
       "      <th>isArchived</th>\n",
       "      <th>isDisabled</th>\n",
       "      <th>isLocked</th>\n",
       "      <th>languages</th>\n",
       "      <th>labels</th>\n",
       "      <th>topics</th>\n",
       "      <th>codeRatio</th>\n",
       "    </tr>\n",
       "  </thead>\n",
       "  <tbody>\n",
       "    <tr>\n",
       "      <th>0</th>\n",
       "      <td>https://github.com/FoundationAgents/OpenManus</td>\n",
       "      <td>NaN</td>\n",
       "      <td>NaN</td>\n",
       "      <td>NaN</td>\n",
       "      <td>95370166</td>\n",
       "      <td>FoundationAgents/OpenManus</td>\n",
       "      <td>False</td>\n",
       "      <td>483</td>\n",
       "      <td>17</td>\n",
       "      <td>3</td>\n",
       "      <td>...</td>\n",
       "      <td>2025-08-13T02:38:39</td>\n",
       "      <td>3e604acb93e41495370d93af5ed44d7e9c6c8319</td>\n",
       "      <td>True</td>\n",
       "      <td>False</td>\n",
       "      <td>False</td>\n",
       "      <td>False</td>\n",
       "      <td>{\"Python\":361159,\"TypeScript\":9898,\"Dockerfile...</td>\n",
       "      <td>:star: top bug;:star: top feature;:star: top i...</td>\n",
       "      <td>NaN</td>\n",
       "      <td>81.713190</td>\n",
       "    </tr>\n",
       "    <tr>\n",
       "      <th>1</th>\n",
       "      <td>https://github.com/openai/gpt-oss</td>\n",
       "      <td>NaN</td>\n",
       "      <td>NaN</td>\n",
       "      <td>NaN</td>\n",
       "      <td>95449305</td>\n",
       "      <td>openai/gpt-oss</td>\n",
       "      <td>False</td>\n",
       "      <td>88</td>\n",
       "      <td>13</td>\n",
       "      <td>2</td>\n",
       "      <td>...</td>\n",
       "      <td>2025-08-28T07:04:11</td>\n",
       "      <td>7be9334950053a888e24887a57dac797a17d6e00</td>\n",
       "      <td>True</td>\n",
       "      <td>False</td>\n",
       "      <td>False</td>\n",
       "      <td>False</td>\n",
       "      <td>{\"Python\":326439,\"C\":181434,\"C++\":73226,\"Metal...</td>\n",
       "      <td>bug;documentation;duplicate;enhancement;good f...</td>\n",
       "      <td>NaN</td>\n",
       "      <td>82.265330</td>\n",
       "    </tr>\n",
       "    <tr>\n",
       "      <th>2</th>\n",
       "      <td>https://github.com/openai/openai-agents-python</td>\n",
       "      <td>NaN</td>\n",
       "      <td>NaN</td>\n",
       "      <td>NaN</td>\n",
       "      <td>95324866</td>\n",
       "      <td>openai/openai-agents-python</td>\n",
       "      <td>False</td>\n",
       "      <td>684</td>\n",
       "      <td>33</td>\n",
       "      <td>30</td>\n",
       "      <td>...</td>\n",
       "      <td>2025-08-29T02:07:36</td>\n",
       "      <td>de9d1fd0c4a99578be85d76a6a623e6a065af85c</td>\n",
       "      <td>False</td>\n",
       "      <td>False</td>\n",
       "      <td>False</td>\n",
       "      <td>False</td>\n",
       "      <td>{\"Python\":1443046,\"Makefile\":1111}</td>\n",
       "      <td>bug;codex;documentation;duplicate;enhancement;...</td>\n",
       "      <td>agents;ai;framework;llm;openai;python</td>\n",
       "      <td>70.012909</td>\n",
       "    </tr>\n",
       "    <tr>\n",
       "      <th>3</th>\n",
       "      <td>https://github.com/google/langextract</td>\n",
       "      <td>NaN</td>\n",
       "      <td>NaN</td>\n",
       "      <td>NaN</td>\n",
       "      <td>95444933</td>\n",
       "      <td>google/langextract</td>\n",
       "      <td>False</td>\n",
       "      <td>104</td>\n",
       "      <td>41</td>\n",
       "      <td>10</td>\n",
       "      <td>...</td>\n",
       "      <td>2025-08-31T07:41:25</td>\n",
       "      <td>2446bbe2b8d1f948fc71f6bf57e2b4ca54329da8</td>\n",
       "      <td>False</td>\n",
       "      <td>False</td>\n",
       "      <td>False</td>\n",
       "      <td>False</td>\n",
       "      <td>{\"Python\":650311,\"Shell\":3364,\"Dockerfile\":214}</td>\n",
       "      <td>alternative-llm;bug;dependencies;discussion;do...</td>\n",
       "      <td>gemini;gemini-ai;gemini-api;gemini-flash;gemin...</td>\n",
       "      <td>65.150204</td>\n",
       "    </tr>\n",
       "    <tr>\n",
       "      <th>4</th>\n",
       "      <td>https://github.com/mindverse/Second-Me</td>\n",
       "      <td>NaN</td>\n",
       "      <td>NaN</td>\n",
       "      <td>NaN</td>\n",
       "      <td>95331663</td>\n",
       "      <td>mindverse/Second-Me</td>\n",
       "      <td>False</td>\n",
       "      <td>185</td>\n",
       "      <td>150</td>\n",
       "      <td>2</td>\n",
       "      <td>...</td>\n",
       "      <td>2025-05-13T06:04:04</td>\n",
       "      <td>179c52ec18422102ad12b078c171feb294a512ba</td>\n",
       "      <td>True</td>\n",
       "      <td>False</td>\n",
       "      <td>False</td>\n",
       "      <td>False</td>\n",
       "      <td>{\"Python\":1812548,\"TypeScript\":464672,\"Shell\":...</td>\n",
       "      <td>all-hands features;bug;documentation;duplicate...</td>\n",
       "      <td>NaN</td>\n",
       "      <td>97.811225</td>\n",
       "    </tr>\n",
       "  </tbody>\n",
       "</table>\n",
       "<p>5 rows × 40 columns</p>\n",
       "</div>"
      ],
      "text/plain": [
       "                                              url  include  language  comment  \\\n",
       "0   https://github.com/FoundationAgents/OpenManus      NaN       NaN      NaN   \n",
       "1               https://github.com/openai/gpt-oss      NaN       NaN      NaN   \n",
       "2  https://github.com/openai/openai-agents-python      NaN       NaN      NaN   \n",
       "3           https://github.com/google/langextract      NaN       NaN      NaN   \n",
       "4          https://github.com/mindverse/Second-Me      NaN       NaN      NaN   \n",
       "\n",
       "         id                         name  isFork  commits  branches  releases  \\\n",
       "0  95370166   FoundationAgents/OpenManus   False      483        17         3   \n",
       "1  95449305               openai/gpt-oss   False       88        13         2   \n",
       "2  95324866  openai/openai-agents-python   False      684        33        30   \n",
       "3  95444933           google/langextract   False      104        41        10   \n",
       "4  95331663          mindverse/Second-Me   False      185       150         2   \n",
       "\n",
       "   ...           lastCommit                             lastCommitSHA hasWiki  \\\n",
       "0  ...  2025-08-13T02:38:39  3e604acb93e41495370d93af5ed44d7e9c6c8319    True   \n",
       "1  ...  2025-08-28T07:04:11  7be9334950053a888e24887a57dac797a17d6e00    True   \n",
       "2  ...  2025-08-29T02:07:36  de9d1fd0c4a99578be85d76a6a623e6a065af85c   False   \n",
       "3  ...  2025-08-31T07:41:25  2446bbe2b8d1f948fc71f6bf57e2b4ca54329da8   False   \n",
       "4  ...  2025-05-13T06:04:04  179c52ec18422102ad12b078c171feb294a512ba    True   \n",
       "\n",
       "  isArchived isDisabled  isLocked  \\\n",
       "0      False      False     False   \n",
       "1      False      False     False   \n",
       "2      False      False     False   \n",
       "3      False      False     False   \n",
       "4      False      False     False   \n",
       "\n",
       "                                           languages  \\\n",
       "0  {\"Python\":361159,\"TypeScript\":9898,\"Dockerfile...   \n",
       "1  {\"Python\":326439,\"C\":181434,\"C++\":73226,\"Metal...   \n",
       "2                 {\"Python\":1443046,\"Makefile\":1111}   \n",
       "3    {\"Python\":650311,\"Shell\":3364,\"Dockerfile\":214}   \n",
       "4  {\"Python\":1812548,\"TypeScript\":464672,\"Shell\":...   \n",
       "\n",
       "                                              labels  \\\n",
       "0  :star: top bug;:star: top feature;:star: top i...   \n",
       "1  bug;documentation;duplicate;enhancement;good f...   \n",
       "2  bug;codex;documentation;duplicate;enhancement;...   \n",
       "3  alternative-llm;bug;dependencies;discussion;do...   \n",
       "4  all-hands features;bug;documentation;duplicate...   \n",
       "\n",
       "                                              topics  codeRatio  \n",
       "0                                                NaN  81.713190  \n",
       "1                                                NaN  82.265330  \n",
       "2              agents;ai;framework;llm;openai;python  70.012909  \n",
       "3  gemini;gemini-ai;gemini-api;gemini-flash;gemin...  65.150204  \n",
       "4                                                NaN  97.811225  \n",
       "\n",
       "[5 rows x 40 columns]"
      ]
     },
     "execution_count": 8,
     "metadata": {},
     "output_type": "execute_result"
    }
   ],
   "source": [
    "py_projects.head()"
   ]
  },
  {
   "cell_type": "code",
   "execution_count": 9,
   "metadata": {},
   "outputs": [],
   "source": [
    "py_projects.to_csv('../data/engineered_projects_from_csn.csv', index=False)"
   ]
  },
  {
   "cell_type": "code",
   "execution_count": null,
   "metadata": {},
   "outputs": [],
   "source": []
  }
 ],
 "metadata": {
  "kernelspec": {
   "display_name": "venv",
   "language": "python",
   "name": "python3"
  },
  "language_info": {
   "codemirror_mode": {
    "name": "ipython",
    "version": 3
   },
   "file_extension": ".py",
   "mimetype": "text/x-python",
   "name": "python",
   "nbconvert_exporter": "python",
   "pygments_lexer": "ipython3",
   "version": "3.11.8"
  }
 },
 "nbformat": 4,
 "nbformat_minor": 2
}
