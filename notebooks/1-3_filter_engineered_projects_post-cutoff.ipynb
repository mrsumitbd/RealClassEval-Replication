{
 "cells": [
  {
   "cell_type": "code",
   "execution_count": 2,
   "metadata": {},
   "outputs": [],
   "source": [
    "import pandas as pd"
   ]
  },
  {
   "cell_type": "code",
   "execution_count": 4,
   "metadata": {},
   "outputs": [],
   "source": [
    "def get_statistics_by_column(cs_projects, java_projects, js_projects, py_projects, ts_projects, column):\n",
    "    # Create a dictionary of the projects for easier iteration\n",
    "    projects = {\n",
    "        'C# Projects': cs_projects,\n",
    "        'Java Projects': java_projects,\n",
    "        'JavaScript Projects': js_projects,\n",
    "        'Python Projects': py_projects,\n",
    "        'TypeScript Projects': ts_projects\n",
    "    }\n",
    "    \n",
    "    # Iterate through each project type\n",
    "    for project_name, project_df in projects.items():\n",
    "        print(f\"Statistics for {project_name}:\")\n",
    "        \n",
    "        # Check if the column exists in the DataFrame\n",
    "        if column in project_df.columns:\n",
    "            column_data = project_df[column]\n",
    "            \n",
    "            # Calculate statistics\n",
    "            mean_value = column_data.mean()\n",
    "            median_value = column_data.median()\n",
    "            q1 = column_data.quantile(0.25)\n",
    "            q3 = column_data.quantile(0.75)\n",
    "            iqr = q3 - q1\n",
    "            std_dev = column_data.std()\n",
    "            \n",
    "            # Display the statistics\n",
    "            print(f\"  Mean: {mean_value}\")\n",
    "            print(f\"  Median: {median_value}\")\n",
    "            print(f\"  1st Quartile (Q1): {q1}\")\n",
    "            print(f\"  3rd Quartile (Q3): {q3}\")\n",
    "            print(f\"  Interquartile Range (IQR): {iqr}\")\n",
    "            print(f\"  Standard Deviation: {std_dev}\\n\")\n",
    "        else:\n",
    "            print(f\"  Column '{column}' not found in {project_name}.\\n\")\n",
    "            \n",
    "def obtain_q1_by_column(projects, column):\n",
    "    return projects[column].quantile(0.25)\n",
    "\n",
    "def obtain_97_by_column(projects, column):\n",
    "    mean = projects[column].mean()\n",
    "    std_dev = projects[column].std()\n",
    "    \n",
    "    # Calculate thresholds for outliers\n",
    "    lower_threshold = mean - 1.5 * std_dev\n",
    "    if lower_threshold < 0: lower_threshold = 0\n",
    "    upper_threshold = mean + 1.5 * std_dev\n",
    "    if upper_threshold > 100: upper_threshold = 100\n",
    "    return (upper_threshold, lower_threshold)"
   ]
  },
  {
   "cell_type": "code",
   "execution_count": 5,
   "metadata": {},
   "outputs": [],
   "source": [
    "py_projects = pd.read_csv('../data/post_cut-off_repos.csv', encoding='latin-1')"
   ]
  },
  {
   "cell_type": "code",
   "execution_count": 7,
   "metadata": {},
   "outputs": [],
   "source": [
    "py_projects = py_projects[(~py_projects['license'].isna()) & (py_projects['license'] != 'Other') & (py_projects['contributors'] >= 2) & (py_projects['releases'] >= 1) & (py_projects['isArchived'] == False)]"
   ]
  },
  {
   "cell_type": "code",
   "execution_count": 8,
   "metadata": {},
   "outputs": [
    {
     "data": {
      "text/plain": [
       "(732, 40)"
      ]
     },
     "execution_count": 8,
     "metadata": {},
     "output_type": "execute_result"
    }
   ],
   "source": [
    "py_projects.shape"
   ]
  },
  {
   "cell_type": "code",
   "execution_count": 9,
   "metadata": {},
   "outputs": [
    {
     "data": {
      "text/plain": [
       "['MIT License',\n",
       " 'Apache License 2.0',\n",
       " 'GNU Affero General Public License v3.0',\n",
       " 'GNU General Public License v3.0',\n",
       " 'BSD 3-Clause New or Revised License',\n",
       " 'Mozilla Public License 2.0',\n",
       " 'GNU General Public License v2.0',\n",
       " 'BSD 2-Clause Simplified License',\n",
       " 'Universal Permissive License v1.0']"
      ]
     },
     "execution_count": 9,
     "metadata": {},
     "output_type": "execute_result"
    }
   ],
   "source": [
    "all_licenses = pd.concat([\n",
    "    py_projects['license']\n",
    "])\n",
    "\n",
    "# Get distinct licenses\n",
    "distinct_licenses = all_licenses.unique()\n",
    "\n",
    "# Convert to list\n",
    "distinct_licenses_list = distinct_licenses.tolist()\n",
    "distinct_licenses_list"
   ]
  },
  {
   "cell_type": "code",
   "execution_count": 10,
   "metadata": {},
   "outputs": [],
   "source": [
    "py_projects = py_projects[~py_projects['license'].str.contains(r'Creative Commons|Open Font',regex=True)]"
   ]
  },
  {
   "cell_type": "code",
   "execution_count": 11,
   "metadata": {},
   "outputs": [
    {
     "data": {
      "text/plain": [
       "(732, 40)"
      ]
     },
     "execution_count": 11,
     "metadata": {},
     "output_type": "execute_result"
    }
   ],
   "source": [
    "py_projects.shape"
   ]
  },
  {
   "cell_type": "code",
   "execution_count": 13,
   "metadata": {},
   "outputs": [],
   "source": [
    "for projects in [py_projects]:\n",
    "    projects['codeRatio'] = projects.apply(\n",
    "        lambda row: \n",
    "        0 if pd.isna(row['codeLines']) or pd.isna(row['commentLines']) or pd.isna(row['blankLines']) or (row['codeLines'] + row['commentLines'] + row['blankLines']) == 0 \n",
    "        else row['codeLines'] / (row['codeLines'] + row['commentLines'] + row['blankLines']) * 100, \n",
    "        axis=1)"
   ]
  },
  {
   "cell_type": "code",
   "execution_count": 14,
   "metadata": {},
   "outputs": [],
   "source": [
    "metrics = ['codeLines', 'totalPullRequests', 'totalIssues', 'codeRatio']\n",
    "\n",
    "# Initialize a dictionary to hold the threshold values\n",
    "thresholds = {\n",
    "    'py': {}\n",
    "}\n",
    "\n",
    "# Calculate thresholds for each project type and metric\n",
    "for project_type, projects in zip(['py'],\n",
    "                                   [py_projects]):\n",
    "    for metric in metrics:\n",
    "        if metric == 'codeRatio':\n",
    "            threshold = obtain_97_by_column(projects, metric)\n",
    "        else:\n",
    "            threshold = obtain_q1_by_column(projects, metric)\n",
    "            \n",
    "        thresholds[project_type][metric] = threshold\n"
   ]
  },
  {
   "cell_type": "code",
   "execution_count": 15,
   "metadata": {},
   "outputs": [
    {
     "data": {
      "text/plain": [
       "{'py': {'codeLines': np.float64(4591.5),\n",
       "  'totalPullRequests': np.float64(12.0),\n",
       "  'totalIssues': np.float64(4.0),\n",
       "  'codeRatio': (np.float64(90.50833620867922), np.float64(54.94200913592581))}}"
      ]
     },
     "execution_count": 15,
     "metadata": {},
     "output_type": "execute_result"
    }
   ],
   "source": [
    "thresholds"
   ]
  },
  {
   "cell_type": "code",
   "execution_count": 16,
   "metadata": {},
   "outputs": [],
   "source": [
    "filtered_projects = {}\n",
    "\n",
    "for project_type, projects in [('py', py_projects)]:\n",
    "    thresholds_project = thresholds[project_type]\n",
    "    filtered_projects[project_type] = projects.loc[\n",
    "        (projects['codeLines'] >= thresholds_project['codeLines']) &\n",
    "        (projects['totalPullRequests'] >= thresholds_project['totalPullRequests']) &\n",
    "        (projects['totalIssues'] >= thresholds_project['totalIssues']) & \n",
    "        ((projects['codeRatio'] > thresholds_project['codeRatio'][1]) & projects['codeRatio'] < thresholds_project['codeRatio'][0])\n",
    "    ]\n",
    "    filtered_projects[project_type] = filtered_projects[project_type].sort_values(by='stargazers', ascending=False)\n",
    "    filtered_projects[project_type]['url'] = filtered_projects[project_type]['name'].apply(lambda x: 'https://github.com/'+x)\n",
    "    filtered_projects[project_type]['include'] = \"\"\n",
    "    filtered_projects[project_type]['language'] = \"\"\n",
    "    filtered_projects[project_type]['comment'] = \"\"\n",
    "    new_columns = ['url', 'include', 'language', 'comment']\n",
    "    existing_columns = [col for col in filtered_projects[project_type].columns if col not in new_columns] \n",
    "    new_column_order = new_columns + existing_columns\n",
    "    filtered_projects[project_type] = filtered_projects[project_type][new_column_order]\n",
    "    "
   ]
  },
  {
   "cell_type": "code",
   "execution_count": 17,
   "metadata": {},
   "outputs": [
    {
     "data": {
      "text/plain": [
       "(365, 40)"
      ]
     },
     "execution_count": 17,
     "metadata": {},
     "output_type": "execute_result"
    }
   ],
   "source": [
    "filtered_projects['py'].shape"
   ]
  },
  {
   "cell_type": "code",
   "execution_count": 19,
   "metadata": {},
   "outputs": [],
   "source": [
    "filtered_projects['py'].to_csv('../data/complete_engineered_post_cut-off_projects.csv', index=False)"
   ]
  },
  {
   "cell_type": "code",
   "execution_count": null,
   "metadata": {},
   "outputs": [],
   "source": []
  }
 ],
 "metadata": {
  "kernelspec": {
   "display_name": "venv",
   "language": "python",
   "name": "python3"
  },
  "language_info": {
   "codemirror_mode": {
    "name": "ipython",
    "version": 3
   },
   "file_extension": ".py",
   "mimetype": "text/x-python",
   "name": "python",
   "nbconvert_exporter": "python",
   "pygments_lexer": "ipython3",
   "version": "3.11.8"
  }
 },
 "nbformat": 4,
 "nbformat_minor": 2
}
