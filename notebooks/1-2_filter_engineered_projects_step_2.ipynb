{
 "cells": [
  {
   "cell_type": "code",
   "execution_count": 16,
   "metadata": {},
   "outputs": [],
   "source": [
    "# code taken as-is or with minor modifications from https://doi.org/10.5281/zenodo.15871467\n",
    "import pandas as pd"
   ]
  },
  {
   "cell_type": "code",
   "execution_count": 17,
   "metadata": {},
   "outputs": [],
   "source": [
    "def get_statistics_by_column(cs_projects, java_projects, js_projects, py_projects, ts_projects, column):\n",
    "    # Create a dictionary of the projects for easier iteration\n",
    "    projects = {\n",
    "        'C# Projects': cs_projects,\n",
    "        'Java Projects': java_projects,\n",
    "        'JavaScript Projects': js_projects,\n",
    "        'Python Projects': py_projects,\n",
    "        'TypeScript Projects': ts_projects\n",
    "    }\n",
    "    \n",
    "    # Iterate through each project type\n",
    "    for project_name, project_df in projects.items():\n",
    "        print(f\"Statistics for {project_name}:\")\n",
    "        \n",
    "        # Check if the column exists in the DataFrame\n",
    "        if column in project_df.columns:\n",
    "            column_data = project_df[column]\n",
    "            \n",
    "            # Calculate statistics\n",
    "            mean_value = column_data.mean()\n",
    "            median_value = column_data.median()\n",
    "            q1 = column_data.quantile(0.25)\n",
    "            q3 = column_data.quantile(0.75)\n",
    "            iqr = q3 - q1\n",
    "            std_dev = column_data.std()\n",
    "            \n",
    "            # Display the statistics\n",
    "            print(f\"  Mean: {mean_value}\")\n",
    "            print(f\"  Median: {median_value}\")\n",
    "            print(f\"  1st Quartile (Q1): {q1}\")\n",
    "            print(f\"  3rd Quartile (Q3): {q3}\")\n",
    "            print(f\"  Interquartile Range (IQR): {iqr}\")\n",
    "            print(f\"  Standard Deviation: {std_dev}\\n\")\n",
    "        else:\n",
    "            print(f\"  Column '{column}' not found in {project_name}.\\n\")\n",
    "            \n",
    "def obtain_q1_by_column(projects, column):\n",
    "    return projects[column].quantile(0.25)\n",
    "\n",
    "def obtain_97_by_column(projects, column):\n",
    "    mean = projects[column].mean()\n",
    "    std_dev = projects[column].std()\n",
    "    \n",
    "    # Calculate thresholds for outliers\n",
    "    lower_threshold = mean - 1.5 * std_dev\n",
    "    if lower_threshold < 0: lower_threshold = 0\n",
    "    upper_threshold = mean + 1.5 * std_dev\n",
    "    if upper_threshold > 100: upper_threshold = 100\n",
    "    return (upper_threshold, lower_threshold)"
   ]
  },
  {
   "cell_type": "code",
   "execution_count": 18,
   "metadata": {},
   "outputs": [],
   "source": [
    "df1 = pd.read_csv('../data/engineered_projects_from_csn.csv')\n",
    "df2 = pd.read_csv('../data/repo_code_comment_ratio_csn_engineered_projects.csv')"
   ]
  },
  {
   "cell_type": "code",
   "execution_count": 19,
   "metadata": {},
   "outputs": [
    {
     "data": {
      "text/plain": [
       "Index(['repository', 'isFork', 'commits', 'branches', 'releases', 'forks',\n",
       "       'mainLanguage', 'defaultBranch', 'license', 'homepage', 'watchers',\n",
       "       'stargazers', 'contributors', 'size', 'createdAt', 'pushedAt',\n",
       "       'updatedAt', 'totalIssues', 'openIssues', 'totalPullRequests',\n",
       "       'openPullRequests', 'lastCommit', 'lastCommitSHA', 'hasWiki',\n",
       "       'isArchived', 'isDisabled', 'languages', 'labels', 'topics'],\n",
       "      dtype='object')"
      ]
     },
     "execution_count": 19,
     "metadata": {},
     "output_type": "execute_result"
    }
   ],
   "source": [
    "df1.columns"
   ]
  },
  {
   "cell_type": "code",
   "execution_count": 20,
   "metadata": {},
   "outputs": [
    {
     "data": {
      "text/plain": [
       "Index(['repository', 'blankLines', 'codeLines', 'commentLines'], dtype='object')"
      ]
     },
     "execution_count": 20,
     "metadata": {},
     "output_type": "execute_result"
    }
   ],
   "source": [
    "df2.columns"
   ]
  },
  {
   "cell_type": "code",
   "execution_count": 21,
   "metadata": {},
   "outputs": [],
   "source": [
    "py_projects = pd.merge(df1, df2, on='repository', how='inner')"
   ]
  },
  {
   "cell_type": "code",
   "execution_count": 7,
   "metadata": {},
   "outputs": [],
   "source": []
  },
  {
   "cell_type": "code",
   "execution_count": 22,
   "metadata": {},
   "outputs": [
    {
     "data": {
      "text/plain": [
       "(4290, 32)"
      ]
     },
     "execution_count": 22,
     "metadata": {},
     "output_type": "execute_result"
    }
   ],
   "source": [
    "py_projects.shape"
   ]
  },
  {
   "cell_type": "code",
   "execution_count": 23,
   "metadata": {},
   "outputs": [
    {
     "data": {
      "text/plain": [
       "Index(['repository', 'isFork', 'commits', 'branches', 'releases', 'forks',\n",
       "       'mainLanguage', 'defaultBranch', 'license', 'homepage', 'watchers',\n",
       "       'stargazers', 'contributors', 'size', 'createdAt', 'pushedAt',\n",
       "       'updatedAt', 'totalIssues', 'openIssues', 'totalPullRequests',\n",
       "       'openPullRequests', 'lastCommit', 'lastCommitSHA', 'hasWiki',\n",
       "       'isArchived', 'isDisabled', 'languages', 'labels', 'topics',\n",
       "       'blankLines', 'codeLines', 'commentLines'],\n",
       "      dtype='object')"
      ]
     },
     "execution_count": 23,
     "metadata": {},
     "output_type": "execute_result"
    }
   ],
   "source": [
    "py_projects.columns"
   ]
  },
  {
   "cell_type": "code",
   "execution_count": 24,
   "metadata": {},
   "outputs": [],
   "source": [
    "py_projects['codeRatio'] = py_projects.apply(\n",
    "        lambda row: \n",
    "        0 if pd.isna(row['codeLines']) or pd.isna(row['commentLines']) or pd.isna(row['blankLines']) or (row['codeLines'] + row['commentLines'] + row['blankLines']) == 0 \n",
    "        else row['codeLines'] / (row['codeLines'] + row['commentLines'] + row['blankLines']) * 100, \n",
    "        axis=1)"
   ]
  },
  {
   "cell_type": "code",
   "execution_count": 25,
   "metadata": {},
   "outputs": [
    {
     "data": {
      "text/plain": [
       "(4290, 33)"
      ]
     },
     "execution_count": 25,
     "metadata": {},
     "output_type": "execute_result"
    }
   ],
   "source": [
    "py_projects.shape"
   ]
  },
  {
   "cell_type": "code",
   "execution_count": 26,
   "metadata": {},
   "outputs": [],
   "source": [
    "metrics = ['codeLines', 'totalPullRequests', 'totalIssues', 'codeRatio']"
   ]
  },
  {
   "cell_type": "code",
   "execution_count": 27,
   "metadata": {},
   "outputs": [],
   "source": [
    "# Initialize a dictionary to hold the threshold values\n",
    "thresholds = {\n",
    "    'py': {}\n",
    "}\n",
    "\n",
    "# Calculate thresholds for each project type and metric\n",
    "for project_type, projects in zip(['py'],\n",
    "                                   [py_projects]):\n",
    "    for metric in metrics:\n",
    "        if metric == 'codeRatio':\n",
    "            threshold = obtain_97_by_column(projects, metric)\n",
    "        else:\n",
    "            threshold = obtain_q1_by_column(projects, metric)\n",
    "            \n",
    "        thresholds[project_type][metric] = threshold"
   ]
  },
  {
   "cell_type": "code",
   "execution_count": 28,
   "metadata": {},
   "outputs": [
    {
     "data": {
      "text/plain": [
       "{'py': {'codeLines': np.float64(1380.25),\n",
       "  'totalPullRequests': np.float64(14.0),\n",
       "  'totalIssues': np.float64(0.0),\n",
       "  'codeRatio': (np.float64(87.14634132468765), np.float64(45.38691855805246))}}"
      ]
     },
     "execution_count": 28,
     "metadata": {},
     "output_type": "execute_result"
    }
   ],
   "source": [
    "thresholds"
   ]
  },
  {
   "cell_type": "code",
   "execution_count": 29,
   "metadata": {},
   "outputs": [],
   "source": [
    "filtered_projects = {}\n",
    "\n",
    "for project_type, projects in [('py', py_projects)]:\n",
    "    thresholds_project = thresholds[project_type]\n",
    "    filtered_projects[project_type] = projects.loc[\n",
    "        (projects['codeLines'] >= thresholds_project['codeLines']) &\n",
    "        (projects['totalPullRequests'] >= thresholds_project['totalPullRequests']) &\n",
    "        (projects['totalIssues'] >= thresholds_project['totalIssues']) & \n",
    "        ((projects['codeRatio'] > thresholds_project['codeRatio'][1]) & projects['codeRatio'] < thresholds_project['codeRatio'][0])\n",
    "    ]\n",
    "    filtered_projects[project_type] = filtered_projects[project_type].sort_values(by='stargazers', ascending=False)\n",
    "    filtered_projects[project_type]['url'] = filtered_projects[project_type]['repository'].apply(lambda x: 'https://github.com/'+x)\n",
    "    new_columns = ['url']\n",
    "    existing_columns = [col for col in filtered_projects[project_type].columns if col not in new_columns] \n",
    "    new_column_order = new_columns + existing_columns\n",
    "    filtered_projects[project_type] = filtered_projects[project_type][new_column_order]"
   ]
  },
  {
   "cell_type": "code",
   "execution_count": 30,
   "metadata": {},
   "outputs": [
    {
     "data": {
      "text/plain": [
       "(4290, 33)"
      ]
     },
     "execution_count": 30,
     "metadata": {},
     "output_type": "execute_result"
    }
   ],
   "source": [
    "py_projects.shape"
   ]
  },
  {
   "cell_type": "code",
   "execution_count": 31,
   "metadata": {},
   "outputs": [
    {
     "data": {
      "text/plain": [
       "(2728, 34)"
      ]
     },
     "execution_count": 31,
     "metadata": {},
     "output_type": "execute_result"
    }
   ],
   "source": [
    "filtered_projects['py'].shape"
   ]
  },
  {
   "cell_type": "code",
   "execution_count": 32,
   "metadata": {},
   "outputs": [
    {
     "name": "stdout",
     "output_type": "stream",
     "text": [
      "<class 'pandas.core.frame.DataFrame'>\n",
      "Index: 2728 entries, 268 to 508\n",
      "Data columns (total 34 columns):\n",
      " #   Column             Non-Null Count  Dtype  \n",
      "---  ------             --------------  -----  \n",
      " 0   url                2728 non-null   object \n",
      " 1   repository         2728 non-null   object \n",
      " 2   isFork             2728 non-null   bool   \n",
      " 3   commits            2728 non-null   int64  \n",
      " 4   branches           2728 non-null   int64  \n",
      " 5   releases           2728 non-null   int64  \n",
      " 6   forks              2728 non-null   int64  \n",
      " 7   mainLanguage       2728 non-null   object \n",
      " 8   defaultBranch      2728 non-null   object \n",
      " 9   license            2728 non-null   object \n",
      " 10  homepage           1339 non-null   object \n",
      " 11  watchers           2728 non-null   int64  \n",
      " 12  stargazers         2728 non-null   int64  \n",
      " 13  contributors       2728 non-null   int64  \n",
      " 14  size               2728 non-null   int64  \n",
      " 15  createdAt          2728 non-null   object \n",
      " 16  pushedAt           2728 non-null   object \n",
      " 17  updatedAt          2728 non-null   object \n",
      " 18  totalIssues        2728 non-null   int64  \n",
      " 19  openIssues         2728 non-null   int64  \n",
      " 20  totalPullRequests  2728 non-null   int64  \n",
      " 21  openPullRequests   2728 non-null   int64  \n",
      " 22  lastCommit         2728 non-null   object \n",
      " 23  lastCommitSHA      2728 non-null   object \n",
      " 24  hasWiki            2728 non-null   bool   \n",
      " 25  isArchived         2728 non-null   bool   \n",
      " 26  isDisabled         2728 non-null   bool   \n",
      " 27  languages          2728 non-null   object \n",
      " 28  labels             2728 non-null   object \n",
      " 29  topics             2728 non-null   object \n",
      " 30  blankLines         2728 non-null   int64  \n",
      " 31  codeLines          2728 non-null   int64  \n",
      " 32  commentLines       2728 non-null   int64  \n",
      " 33  codeRatio          2728 non-null   float64\n",
      "dtypes: bool(4), float64(1), int64(15), object(14)\n",
      "memory usage: 671.3+ KB\n"
     ]
    }
   ],
   "source": [
    "filtered_projects['py'].info()"
   ]
  },
  {
   "cell_type": "code",
   "execution_count": 33,
   "metadata": {},
   "outputs": [
    {
     "data": {
      "text/html": [
       "<div>\n",
       "<style scoped>\n",
       "    .dataframe tbody tr th:only-of-type {\n",
       "        vertical-align: middle;\n",
       "    }\n",
       "\n",
       "    .dataframe tbody tr th {\n",
       "        vertical-align: top;\n",
       "    }\n",
       "\n",
       "    .dataframe thead th {\n",
       "        text-align: right;\n",
       "    }\n",
       "</style>\n",
       "<table border=\"1\" class=\"dataframe\">\n",
       "  <thead>\n",
       "    <tr style=\"text-align: right;\">\n",
       "      <th></th>\n",
       "      <th>url</th>\n",
       "      <th>repository</th>\n",
       "      <th>isFork</th>\n",
       "      <th>commits</th>\n",
       "      <th>branches</th>\n",
       "      <th>releases</th>\n",
       "      <th>forks</th>\n",
       "      <th>mainLanguage</th>\n",
       "      <th>defaultBranch</th>\n",
       "      <th>license</th>\n",
       "      <th>...</th>\n",
       "      <th>hasWiki</th>\n",
       "      <th>isArchived</th>\n",
       "      <th>isDisabled</th>\n",
       "      <th>languages</th>\n",
       "      <th>labels</th>\n",
       "      <th>topics</th>\n",
       "      <th>blankLines</th>\n",
       "      <th>codeLines</th>\n",
       "      <th>commentLines</th>\n",
       "      <th>codeRatio</th>\n",
       "    </tr>\n",
       "  </thead>\n",
       "  <tbody>\n",
       "    <tr>\n",
       "      <th>268</th>\n",
       "      <td>https://github.com/huggingface/pytorch-pretrai...</td>\n",
       "      <td>huggingface/pytorch-pretrained-BERT</td>\n",
       "      <td>False</td>\n",
       "      <td>20465</td>\n",
       "      <td>941</td>\n",
       "      <td>228</td>\n",
       "      <td>30430</td>\n",
       "      <td>Python</td>\n",
       "      <td>main</td>\n",
       "      <td>Apache License 2.0</td>\n",
       "      <td>...</td>\n",
       "      <td>True</td>\n",
       "      <td>False</td>\n",
       "      <td>False</td>\n",
       "      <td>{\"Python\": 71882666, \"Cuda\": 204026, \"Dockerfi...</td>\n",
       "      <td>[\"Accelerate\", \"Agents\", \"Audio\", \"Benchmarks\"...</td>\n",
       "      <td>[\"nlp\", \"natural-language-processing\", \"pytorc...</td>\n",
       "      <td>301316</td>\n",
       "      <td>1162524</td>\n",
       "      <td>308824</td>\n",
       "      <td>65.580618</td>\n",
       "    </tr>\n",
       "    <tr>\n",
       "      <th>3902</th>\n",
       "      <td>https://github.com/nvbn/thefuck</td>\n",
       "      <td>nvbn/thefuck</td>\n",
       "      <td>False</td>\n",
       "      <td>1651</td>\n",
       "      <td>2</td>\n",
       "      <td>17</td>\n",
       "      <td>3765</td>\n",
       "      <td>Python</td>\n",
       "      <td>master</td>\n",
       "      <td>MIT License</td>\n",
       "      <td>...</td>\n",
       "      <td>True</td>\n",
       "      <td>False</td>\n",
       "      <td>False</td>\n",
       "      <td>{\"Python\": 543910, \"Dockerfile\": 754, \"PowerSh...</td>\n",
       "      <td>[\"bug\", \"cannot reproduce\", \"contributor-frien...</td>\n",
       "      <td>[\"python\", \"shell\"]</td>\n",
       "      <td>3783</td>\n",
       "      <td>11276</td>\n",
       "      <td>2218</td>\n",
       "      <td>65.265961</td>\n",
       "    </tr>\n",
       "    <tr>\n",
       "      <th>2914</th>\n",
       "      <td>https://github.com/ageitgey/face_recognition</td>\n",
       "      <td>ageitgey/face_recognition</td>\n",
       "      <td>False</td>\n",
       "      <td>238</td>\n",
       "      <td>8</td>\n",
       "      <td>2</td>\n",
       "      <td>13681</td>\n",
       "      <td>Python</td>\n",
       "      <td>master</td>\n",
       "      <td>MIT License</td>\n",
       "      <td>...</td>\n",
       "      <td>True</td>\n",
       "      <td>False</td>\n",
       "      <td>False</td>\n",
       "      <td>{\"Python\": 35036, \"Dockerfile\": 6930, \"Makefil...</td>\n",
       "      <td>[\"bug\", \"dependencies\", \"duplicate\", \"enhancem...</td>\n",
       "      <td>[\"machine-learning\", \"face-detection\", \"face-r...</td>\n",
       "      <td>1698</td>\n",
       "      <td>3653</td>\n",
       "      <td>1095</td>\n",
       "      <td>56.670804</td>\n",
       "    </tr>\n",
       "  </tbody>\n",
       "</table>\n",
       "<p>3 rows × 34 columns</p>\n",
       "</div>"
      ],
      "text/plain": [
       "                                                    url  \\\n",
       "268   https://github.com/huggingface/pytorch-pretrai...   \n",
       "3902                    https://github.com/nvbn/thefuck   \n",
       "2914       https://github.com/ageitgey/face_recognition   \n",
       "\n",
       "                               repository  isFork  commits  branches  \\\n",
       "268   huggingface/pytorch-pretrained-BERT   False    20465       941   \n",
       "3902                         nvbn/thefuck   False     1651         2   \n",
       "2914            ageitgey/face_recognition   False      238         8   \n",
       "\n",
       "      releases  forks mainLanguage defaultBranch             license  ...  \\\n",
       "268        228  30430       Python          main  Apache License 2.0  ...   \n",
       "3902        17   3765       Python        master         MIT License  ...   \n",
       "2914         2  13681       Python        master         MIT License  ...   \n",
       "\n",
       "     hasWiki  isArchived  isDisabled  \\\n",
       "268     True       False       False   \n",
       "3902    True       False       False   \n",
       "2914    True       False       False   \n",
       "\n",
       "                                              languages  \\\n",
       "268   {\"Python\": 71882666, \"Cuda\": 204026, \"Dockerfi...   \n",
       "3902  {\"Python\": 543910, \"Dockerfile\": 754, \"PowerSh...   \n",
       "2914  {\"Python\": 35036, \"Dockerfile\": 6930, \"Makefil...   \n",
       "\n",
       "                                                 labels  \\\n",
       "268   [\"Accelerate\", \"Agents\", \"Audio\", \"Benchmarks\"...   \n",
       "3902  [\"bug\", \"cannot reproduce\", \"contributor-frien...   \n",
       "2914  [\"bug\", \"dependencies\", \"duplicate\", \"enhancem...   \n",
       "\n",
       "                                                 topics blankLines codeLines  \\\n",
       "268   [\"nlp\", \"natural-language-processing\", \"pytorc...     301316   1162524   \n",
       "3902                                [\"python\", \"shell\"]       3783     11276   \n",
       "2914  [\"machine-learning\", \"face-detection\", \"face-r...       1698      3653   \n",
       "\n",
       "      commentLines  codeRatio  \n",
       "268         308824  65.580618  \n",
       "3902          2218  65.265961  \n",
       "2914          1095  56.670804  \n",
       "\n",
       "[3 rows x 34 columns]"
      ]
     },
     "execution_count": 33,
     "metadata": {},
     "output_type": "execute_result"
    }
   ],
   "source": [
    "filtered_projects['py'].head(3)"
   ]
  },
  {
   "cell_type": "code",
   "execution_count": 34,
   "metadata": {},
   "outputs": [],
   "source": [
    "filtered_projects['py'].to_csv('../data/complete_engineered_csn_projects.csv', index=False)"
   ]
  },
  {
   "cell_type": "code",
   "execution_count": null,
   "metadata": {},
   "outputs": [],
   "source": []
  }
 ],
 "metadata": {
  "kernelspec": {
   "display_name": "venv",
   "language": "python",
   "name": "python3"
  },
  "language_info": {
   "codemirror_mode": {
    "name": "ipython",
    "version": 3
   },
   "file_extension": ".py",
   "mimetype": "text/x-python",
   "name": "python",
   "nbconvert_exporter": "python",
   "pygments_lexer": "ipython3",
   "version": "3.11.8"
  }
 },
 "nbformat": 4,
 "nbformat_minor": 2
}
